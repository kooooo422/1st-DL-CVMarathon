{
 "cells": [
  {
   "cell_type": "code",
   "execution_count": 5,
   "id": "behind-robertson",
   "metadata": {},
   "outputs": [
    {
     "data": {
      "text/plain": [
       "'\\n利用 Request + BeatifulSoup 爬取下列兩個網站內容並解析：\\n\\n1. Dcared 網址： https://www.dcard.tw/f\\n\\n2. 知乎： https://www.zhihu.com/explore\\n\\n並且回答下面問題：\\n\\n1. Request 取回之後該怎麼取出資料，資料型態是什麼？\\n\\n2. 為什麼要使用 BeatifulSoup 處理？\\n\\n3. 觀察一下知乎回來的資料好像有點怪怪的，該怎麼解決？\\n'"
      ]
     },
     "execution_count": 5,
     "metadata": {},
     "output_type": "execute_result"
    }
   ],
   "source": [
    "\"\"\"\n",
    "利用 Request + BeatifulSoup 爬取下列兩個網站內容並解析：\n",
    "\n",
    "1. Dcared 網址： https://www.dcard.tw/f\n",
    "\n",
    "2. 知乎： https://www.zhihu.com/explore\n",
    "\n",
    "並且回答下面問題：\n",
    "\n",
    "1. Request 取回之後該怎麼取出資料，資料型態是什麼？\n",
    "\n",
    "2. 為什麼要使用 BeatifulSoup 處理？\n",
    "\n",
    "3. 觀察一下知乎回來的資料好像有點怪怪的，該怎麼解決？\n",
    "\"\"\"\n"
   ]
  },
  {
   "cell_type": "code",
   "execution_count": 7,
   "id": "measured-arrow",
   "metadata": {},
   "outputs": [
    {
     "name": "stdout",
     "output_type": "stream",
     "text": [
      "<!DOCTYPE html><html lang=\"zh-TW\"><head prefix=\"og: http://ogp.me/ns#\" itemscope=\"\" itemType=\"https://schema.org/WebSite\"><meta charSet=\"utf-8\"/><meta http-equiv=\"X-UA-Compatible\" content=\"IE=edge\"/><meta name=\"apple-mobile-web-app-status-bar-style\" content=\"default\"/><meta name=\"apple-itunes-app\" c\n"
     ]
    },
    {
     "data": {
      "text/plain": [
       "str"
      ]
     },
     "execution_count": 7,
     "metadata": {},
     "output_type": "execute_result"
    }
   ],
   "source": [
    "import requests as rq\n",
    "r=rq.get('https://www.dcard.tw/f')\n",
    "res=r.text\n",
    "print(res[:300])\n",
    "type(res)"
   ]
  },
  {
   "cell_type": "code",
   "execution_count": 56,
   "id": "material-thousand",
   "metadata": {},
   "outputs": [
    {
     "name": "stdout",
     "output_type": "stream",
     "text": [
      "<class 'bs4.element.ResultSet'>\n",
      "✨有獎活動✨親愛的幫我化－伴侶化妝挑戰（還是其實是信任挑戰😂？）\n",
      "美好的連假我差點死在酒店浴室裡（有流血慎入）\n",
      "我的模特界時間管理大師前男友 （下）\n",
      "27歲存款\n",
      "我是不是得愛滋病啊\n",
      "#圖 女友的腿\n",
      "一起洗澡要幹嘛\n",
      "桌面擺設是很重要的\n",
      "#分享 #更 如何6折買到Aesop\n",
      "減重過程 #更\n",
      "慟！四科54級就能繁星上醫科？\n",
      "請不要跟公主病吃飯\n",
      "求助～海底撈遊戲\n",
      "拍AV當年輕時代的紀錄\n",
      "狂賀🎊大葉生醫系5人考取台大研究所\n",
      "男生對透膚上衣的看法\n",
      "早春穿搭&和服初體驗👘\n",
      "#分享 那些年我在無印買過的好物\n",
      "阿公說我確定可以畢業就給我50萬元當獎勵阿😆\n",
      "不忍了!檢舉蒼藍鴿的人並不是莎粉!!\n",
      "咕咕家 韓式炸雞吃到飽\n",
      "半夜看到男友傳來的訊息看著看著就哭了⋯\n",
      "洗到姊姊的小玩具...怎辦？\n",
      "誒都 你男友好像出軌了\n",
      "這樣的眉毛會修得太細嗎😭\n",
      "我恨臉書連動ಥ_ಥ\n",
      "陰莖魚！誰的姐夫掉進海裡？\n",
      "全家是不是都走在7-11前面？\n",
      "有夠扯爆好喝的啦！！\n",
      "What’s in my room溫馨上班族\n"
     ]
    }
   ],
   "source": [
    "from bs4 import BeautifulSoup\n",
    "soup = BeautifulSoup(res, 'html.parser')\n",
    "# print(soup)\n",
    "print(type(titles))\n",
    "for item in soup.findAll(\"a\", {'class': 'tgn9uw-3 iuyCWN'}):\n",
    "    print(item.text)"
   ]
  },
  {
   "cell_type": "code",
   "execution_count": null,
   "id": "mechanical-revolution",
   "metadata": {},
   "outputs": [],
   "source": []
  }
 ],
 "metadata": {
  "kernelspec": {
   "display_name": "Python 3",
   "language": "python",
   "name": "python3"
  },
  "language_info": {
   "codemirror_mode": {
    "name": "ipython",
    "version": 3
   },
   "file_extension": ".py",
   "mimetype": "text/x-python",
   "name": "python",
   "nbconvert_exporter": "python",
   "pygments_lexer": "ipython3",
   "version": "3.7.5"
  }
 },
 "nbformat": 4,
 "nbformat_minor": 5
}

{
 "cells": [
  {
   "cell_type": "code",
   "execution_count": 2,
   "id": "sixth-chassis",
   "metadata": {},
   "outputs": [
    {
     "name": "stdout",
     "output_type": "stream",
     "text": [
      "來，客人你的薯餅好囉\n",
      "我這樣是虐貓嗎？\n",
      "天竺鼠車車到底紅什麼？\n",
      "更 注意 ⚠️ 貓寶貝在檢疫中心離開😭到底是發生什麼事了啦😭\n",
      "狗勾這動作是想表達什麼\n",
      "貓貓紅包簡單製作\n",
      "撈金魚撈到暴鯉龍\n",
      "懶骨頭初體驗🐱\n",
      "更/剩一隻幼貓\n",
      "#貓 剛睡醒的貓貓\n",
      "打完針的貓貓會記恨嗎\n",
      "不要把照片倒過來看\n",
      "臉烤焦的小布偶\n",
      "原來是隻戴了頭套就變醜的貓🥲\n",
      "本來是進去看魚蝦的無意間認識了店裡可愛的小狗\n",
      "我的貓晚上會叫😰\n",
      "機車套裡貌似有貓，求怎麼辦\n",
      "我ㄉ霸氣貓貓🐱\n",
      "真的受不了了啊\n",
      "天竺鼠車車真鼠版🐹\n",
      "遇到犯職業病的邊邊🤣\n",
      "#台南 #送養 #貓咪\n",
      "對不起，打擾到妳了！\n",
      "有人家的狗狗不見了嗎？\n",
      "哈嘍小姐你的氣質呢？\n",
      "這到底是什麼生物ಠ_ಠ\n",
      "動物皆生命 如果拒絕購買也請拒絕領養\n",
      "貓ㄉ報恩…\n",
      "可愛柴分享(˶‾᷄ ⁻̫ ‾᷅˵)\n",
      "母愛爆發\n",
      "30 筆資料\n"
     ]
    }
   ],
   "source": [
    "import requests as rq\n",
    "r=rq.get(\"https://www.dcard.tw/_api/forums/pet/posts?popular=true\")\n",
    "import json\n",
    "data=json.loads(r.text)#回傳jSON格式\n",
    "i=0\n",
    "for d in data:\n",
    "    print(d[\"title\"])\n",
    "    i=i+1\n",
    "print (i,\"筆資料\")"
   ]
  },
  {
   "cell_type": "code",
   "execution_count": 3,
   "id": "careful-spine",
   "metadata": {},
   "outputs": [
    {
     "name": "stdout",
     "output_type": "stream",
     "text": [
      "回傳 37 筆資料\n",
      "<class 'dict'>\n",
      "全部資料 {'id': 235248346, 'title': '我這樣是虐貓嗎？', 'excerpt': '我打這麼大力他會內傷嗎？我這樣是不是虐貓啊？', 'anonymousSchool': False, 'anonymousDepartment': True, 'pinned': False, 'forumId': '7ee21581-1307-4ba9-b9dc-82028bdcca49', 'replyId': None, 'createdAt': '2021-01-27T17:28:50.030Z', 'updatedAt': '2021-01-27T17:28:50.030Z', 'commentCount': 67, 'likeCount': 791, 'withNickname': False, 'tags': ['HIDE_THUMBNAIL'], 'topics': ['寵物', '貓'], 'meta': {'layout': 'classic'}, 'forumName': '寵物', 'forumAlias': 'pet', 'nsfw': False, 'gender': 'M', 'school': '明新科技大學', 'replyTitle': None, 'mediaMeta': [{'id': 'a9ed734b-8945-4679-be4f-29ac57455f0a', 'url': 'https://www.dcard.tw/v2/vivid/videos/44ccd961-9652-47d5-a821-e344706d6489?r=1.7777777777777777', 'normalizedUrl': '', 'thumbnail': 'https://vivid.dcard.tw/Public/44ccd961-9652-47d5-a821-e344706d6489/thumbnail.jpg', 'type': 'video/vivid', 'tags': ['ANNOTATED_FAILED'], 'createdAt': '2021-01-27T17:28:50.030Z', 'updatedAt': '2021-01-27T17:28:50.030Z'}], 'reactions': [{'id': '286f599c-f86a-4932-82f0-f5a06f1eca03', 'count': 707}, {'id': 'e8e6bc5d-41b0-4129-b134-97507523d7ff', 'count': 80}, {'id': '4b018f48-e184-445f-adf1-fc8e04ba09b9', 'count': 2}, {'id': 'aa0d425f-d530-4478-9a77-fe3aedc79eea', 'count': 2}], 'hidden': False, 'customStyle': None, 'isSuspiciousAccount': False, 'isModerator': False, 'layout': 'classic', 'spoilerAlert': False, 'withImages': True, 'withVideos': True, 'media': [], 'reportReasonText': '', 'excerptComments': [], 'postAvatar': '', 'verifiedBadge': False}\n",
      "AllKey---->>> dict_keys(['id', 'title', 'excerpt', 'anonymousSchool', 'anonymousDepartment', 'pinned', 'forumId', 'replyId', 'createdAt', 'updatedAt', 'commentCount', 'likeCount', 'withNickname', 'tags', 'topics', 'meta', 'forumName', 'forumAlias', 'nsfw', 'gender', 'school', 'replyTitle', 'mediaMeta', 'reactions', 'hidden', 'customStyle', 'isSuspiciousAccount', 'isModerator', 'layout', 'spoilerAlert', 'withImages', 'withVideos', 'media', 'reportReasonText', 'excerptComments', 'postAvatar', 'verifiedBadge'])\n"
     ]
    }
   ],
   "source": [
    "print(\"回傳\",len(data[1]),\"筆資料\")\n",
    "print(type(data[1]))\n",
    "print(\"全部資料\",data[1])\n",
    "print(\"AllKey---->>>\",data[1].keys())"
   ]
  },
  {
   "cell_type": "code",
   "execution_count": 4,
   "id": "departmental-jenny",
   "metadata": {},
   "outputs": [
    {
     "name": "stdout",
     "output_type": "stream",
     "text": [
      "標題:  來，客人你的薯餅好囉  貼文時間:  2021-01-27T06:01:01.743Z  留言人數:  48  按讚人數:  1154\n",
      "標題:  我這樣是虐貓嗎？  貼文時間:  2021-01-27T17:28:50.030Z  留言人數:  67  按讚人數:  791\n",
      "標題:  天竺鼠車車到底紅什麼？  貼文時間:  2021-01-27T13:11:21.599Z  留言人數:  68  按讚人數:  769\n",
      "標題:  更 注意 ⚠️ 貓寶貝在檢疫中心離開😭到底是發生什麼事了啦😭  貼文時間:  2021-01-27T13:17:04.190Z  留言人數:  73  按讚人數:  608\n",
      "標題:  狗勾這動作是想表達什麼  貼文時間:  2021-01-27T07:08:02.730Z  留言人數:  19  按讚人數:  258\n",
      "標題:  貓貓紅包簡單製作  貼文時間:  2021-01-27T07:25:59.947Z  留言人數:  17  按讚人數:  240\n",
      "標題:  撈金魚撈到暴鯉龍  貼文時間:  2021-01-27T07:30:47.997Z  留言人數:  2  按讚人數:  208\n",
      "標題:  懶骨頭初體驗🐱  貼文時間:  2021-01-28T04:40:45.425Z  留言人數:  22  按讚人數:  207\n",
      "標題:  更/剩一隻幼貓  貼文時間:  2021-01-28T04:03:23.855Z  留言人數:  30  按讚人數:  95\n",
      "標題:  #貓 剛睡醒的貓貓  貼文時間:  2021-01-27T07:25:18.291Z  留言人數:  7  按讚人數:  68\n",
      "標題:  打完針的貓貓會記恨嗎  貼文時間:  2021-01-28T06:19:28.127Z  留言人數:  14  按讚人數:  64\n",
      "標題:  不要把照片倒過來看  貼文時間:  2021-01-28T07:49:36.189Z  留言人數:  4  按讚人數:  59\n",
      "標題:  臉烤焦的小布偶  貼文時間:  2021-01-27T16:27:41.021Z  留言人數:  16  按讚人數:  52\n",
      "標題:  原來是隻戴了頭套就變醜的貓🥲  貼文時間:  2021-01-28T09:18:59.550Z  留言人數:  6  按讚人數:  47\n",
      "標題:  本來是進去看魚蝦的無意間認識了店裡可愛的小狗  貼文時間:  2021-01-27T05:59:36.066Z  留言人數:  3  按讚人數:  47\n",
      "標題:  我的貓晚上會叫😰  貼文時間:  2021-01-27T14:27:10.594Z  留言人數:  12  按讚人數:  45\n",
      "標題:  機車套裡貌似有貓，求怎麼辦  貼文時間:  2021-01-28T08:54:21.522Z  留言人數:  17  按讚人數:  43\n",
      "標題:  我ㄉ霸氣貓貓🐱  貼文時間:  2021-01-27T17:27:39.116Z  留言人數:  3  按讚人數:  42\n",
      "標題:  真的受不了了啊  貼文時間:  2021-01-27T09:20:09.372Z  留言人數:  1  按讚人數:  40\n",
      "標題:  天竺鼠車車真鼠版🐹  貼文時間:  2021-01-27T06:49:08.488Z  留言人數:  0  按讚人數:  37\n",
      "標題:  遇到犯職業病的邊邊🤣  貼文時間:  2021-01-27T14:11:19.677Z  留言人數:  0  按讚人數:  36\n",
      "標題:  #台南 #送養 #貓咪  貼文時間:  2021-01-28T00:09:41.667Z  留言人數:  17  按讚人數:  35\n",
      "標題:  對不起，打擾到妳了！  貼文時間:  2021-01-27T06:03:25.396Z  留言人數:  2  按讚人數:  33\n",
      "標題:  有人家的狗狗不見了嗎？  貼文時間:  2021-01-27T18:01:28.621Z  留言人數:  0  按讚人數:  32\n",
      "標題:  哈嘍小姐你的氣質呢？  貼文時間:  2021-01-27T07:14:42.100Z  留言人數:  4  按讚人數:  30\n",
      "標題:  這到底是什麼生物ಠ_ಠ  貼文時間:  2021-01-28T02:57:52.804Z  留言人數:  2  按讚人數:  28\n",
      "標題:  動物皆生命 如果拒絕購買也請拒絕領養  貼文時間:  2021-01-28T05:12:18.506Z  留言人數:  26  按讚人數:  27\n",
      "標題:  貓ㄉ報恩…  貼文時間:  2021-01-28T09:07:06.116Z  留言人數:  9  按讚人數:  26\n",
      "標題:  可愛柴分享(˶‾᷄ ⁻̫ ‾᷅˵)  貼文時間:  2021-01-28T01:43:34.796Z  留言人數:  4  按讚人數:  24\n",
      "標題:  母愛爆發  貼文時間:  2021-01-28T01:29:07.866Z  留言人數:  1  按讚人數:  24\n"
     ]
    }
   ],
   "source": [
    "count=0\n",
    "while (True):\n",
    "    try:\n",
    "        each_data=data[count]\n",
    "        print(\"標題: \",each_data[\"title\"],\" 貼文時間: \",each_data[\"createdAt\"],\" 留言人數: \",each_data[\"commentCount\"],\" 按讚人數: \",each_data[\"likeCount\"])\n",
    "        count=count+1\n",
    "    except:\n",
    "        break\n",
    "        "
   ]
  },
  {
   "cell_type": "code",
   "execution_count": 14,
   "id": "conceptual-relations",
   "metadata": {},
   "outputs": [
    {
     "name": "stdout",
     "output_type": "stream",
     "text": [
      "<class 'int'>\n",
      "平均留言人數 16.466666666666665\n",
      "平均按讚人數 172.3\n"
     ]
    }
   ],
   "source": [
    "print(type(data[1][\"commentCount\"]))\n",
    "counts=0\n",
    "arg_comment=0\n",
    "arg_like=0\n",
    "for counts in range(i):\n",
    "    arg_comment=arg_comment+data[counts][\"commentCount\"]\n",
    "    arg_like=arg_like+data[counts][\"likeCount\"]\n",
    "\n",
    "print(\"平均留言人數\",arg_comment/i)\n",
    "print(\"平均按讚人數\",arg_like/i)\n"
   ]
  },
  {
   "cell_type": "code",
   "execution_count": null,
   "id": "recorded-election",
   "metadata": {},
   "outputs": [],
   "source": []
  },
  {
   "cell_type": "code",
   "execution_count": null,
   "id": "beautiful-gibraltar",
   "metadata": {},
   "outputs": [],
   "source": []
  }
 ],
 "metadata": {
  "kernelspec": {
   "display_name": "Python 3",
   "language": "python",
   "name": "python3"
  },
  "language_info": {
   "codemirror_mode": {
    "name": "ipython",
    "version": 3
   },
   "file_extension": ".py",
   "mimetype": "text/x-python",
   "name": "python",
   "nbconvert_exporter": "python",
   "pygments_lexer": "ipython3",
   "version": "3.7.5"
  }
 },
 "nbformat": 4,
 "nbformat_minor": 5
}

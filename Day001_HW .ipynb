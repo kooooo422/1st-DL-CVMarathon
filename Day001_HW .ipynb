{
 "cells": [
  {
   "cell_type": "code",
   "execution_count": 2,
   "id": "worldwide-animal",
   "metadata": {},
   "outputs": [],
   "source": [
    "### 1.（簡答題）檔案、API、爬蟲三種取得資料方式有什麼不同？"
   ]
  },
  {
   "cell_type": "code",
   "execution_count": 1,
   "id": "assisted-champion",
   "metadata": {},
   "outputs": [
    {
     "ename": "NameError",
     "evalue": "name 'dv' is not defined",
     "output_type": "error",
     "traceback": [
      "\u001b[1;31m---------------------------------------------------------------------------\u001b[0m",
      "\u001b[1;31mNameError\u001b[0m                                 Traceback (most recent call last)",
      "\u001b[1;32m<ipython-input-1-c5c5df1b13ae>\u001b[0m in \u001b[0;36m<module>\u001b[1;34m\u001b[0m\n\u001b[0;32m      1\u001b[0m \u001b[1;31m#下載下檔案可能為cvs,json\u001b[0m\u001b[1;33m\u001b[0m\u001b[1;33m\u001b[0m\u001b[1;33m\u001b[0m\u001b[0m\n\u001b[1;32m----> 2\u001b[1;33m \u001b[0mdv\u001b[0m\u001b[1;33m\u001b[0m\u001b[1;33m\u001b[0m\u001b[0m\n\u001b[0m",
      "\u001b[1;31mNameError\u001b[0m: name 'dv' is not defined"
     ]
    }
   ],
   "source": [
    "#下載下檔案可能為cvs,json\n",
    "#API提供接口不用全部下載下來\n",
    "#網頁爬蟲 利用前端文字進行抓取"
   ]
  },
  {
   "cell_type": "code",
   "execution_count": 3,
   "id": "rocky-negotiation",
   "metadata": {},
   "outputs": [
    {
     "ename": "IndentationError",
     "evalue": "unexpected indent (<ipython-input-3-e27491861905>, line 2)",
     "output_type": "error",
     "traceback": [
      "\u001b[1;36m  File \u001b[1;32m\"<ipython-input-3-e27491861905>\"\u001b[1;36m, line \u001b[1;32m2\u001b[0m\n\u001b[1;33m    * 下載指定檔案到 Data 資料夾，存成檔名 Homework.txt\u001b[0m\n\u001b[1;37m    ^\u001b[0m\n\u001b[1;31mIndentationError\u001b[0m\u001b[1;31m:\u001b[0m unexpected indent\n"
     ]
    }
   ],
   "source": [
    "### 2.（實作）完成一個程式，需滿足下列需求：\n",
    "#下載指定檔案到 Data 資料夾，存成檔名 Homework.txt\n",
    "#檢查 Data 資料夾是否有 Homework.txt 檔名之檔案\n",
    "#將「Hello World」字串覆寫到 Homework.txt 檔案\n",
    "#檢查 Homework.txt 檔案字數是否符合 Hello World 字數"
   ]
  },
  {
   "cell_type": "code",
   "execution_count": 6,
   "id": "frequent-saturday",
   "metadata": {},
   "outputs": [
    {
     "data": {
      "text/plain": [
       "('C:/Users/yee91/Downloads/Data/Homework.txt',\n",
       " <http.client.HTTPMessage at 0x1b01a1d2a08>)"
      ]
     },
     "execution_count": 6,
     "metadata": {},
     "output_type": "execute_result"
    }
   ],
   "source": [
    "from urllib.request import urlretrieve as urlre\n",
    "import os\n",
    "os.path.join(\"C:/Users/yee91/Downloads/Data\")\n",
    "urlre(\"https://www.w3.org/TR/PNG/iso_8859-1.txt\",\"C:/Users/yee91/Downloads/Data/Homework.txt\" )"
   ]
  },
  {
   "cell_type": "code",
   "execution_count": 12,
   "id": "exposed-ratio",
   "metadata": {},
   "outputs": [
    {
     "name": "stdout",
     "output_type": "stream",
     "text": [
      "['Homework.txt']\n",
      "[O] 檢查 Data 資料夾是否有 Homework.txt 檔名之檔案\n"
     ]
    }
   ],
   "source": [
    "filepath=\"C:/Users/yee91/Downloads/Data\"\n",
    "files=[f for f in os.listdir(filepath) if os.path.isfile(os.path.join(filepath,f))]\n",
    "print(files)\n",
    "if 'Homework.txt' in files:\n",
    "    print('[O] 檢查 Data 資料夾是否有 Homework.txt 檔名之檔案')\n",
    "else:\n",
    "    print('[X] 檢查 Data 資料夾是否有 Homework.txt 檔名之檔案')"
   ]
  },
  {
   "cell_type": "code",
   "execution_count": 21,
   "id": "joint-destruction",
   "metadata": {},
   "outputs": [
    {
     "name": "stdout",
     "output_type": "stream",
     "text": [
      "Hello World\n"
     ]
    }
   ],
   "source": [
    "with open(\"C:/Users/yee91/Downloads/Data/Homework.txt\", \"w\") as f:\n",
    "    f.write(\"Hello World\")\n",
    "try:\n",
    "    with open(\"C:/Users/yee91/Downloads/Data/Homework.txt\", \"r\") as fh:\n",
    "        print(fh.read())\n",
    "except EnvironmentError: # parent of IOError, OSError *and* WindowsError where available\n",
    "    pass   "
   ]
  },
  {
   "cell_type": "code",
   "execution_count": 25,
   "id": "enclosed-miller",
   "metadata": {},
   "outputs": [
    {
     "name": "stdout",
     "output_type": "stream",
     "text": [
      "Hello World\n",
      "[O] 檢查 Homework.txt 檔案字數是否符合 Hello World 字數\n"
     ]
    }
   ],
   "source": [
    "f=open(\"C:/Users/yee91/Downloads/Data/Homework.txt\", \"r\")\n",
    "text=f.read()\n",
    "print(text)\n",
    "if len('Hello World') == len(text):\n",
    "    print('[O] 檢查 Homework.txt 檔案字數是否符合 Hello World 字數')\n",
    "else:\n",
    "    print('[X] 檢查 Homework.txt 檔案字數是否符合 Hello World 字數')\n",
    "f.close()"
   ]
  },
  {
   "cell_type": "code",
   "execution_count": null,
   "id": "elder-browse",
   "metadata": {},
   "outputs": [],
   "source": []
  }
 ],
 "metadata": {
  "kernelspec": {
   "display_name": "Python 3",
   "language": "python",
   "name": "python3"
  },
  "language_info": {
   "codemirror_mode": {
    "name": "ipython",
    "version": 3
   },
   "file_extension": ".py",
   "mimetype": "text/x-python",
   "name": "python",
   "nbconvert_exporter": "python",
   "pygments_lexer": "ipython3",
   "version": "3.7.5"
  }
 },
 "nbformat": 4,
 "nbformat_minor": 5
}
